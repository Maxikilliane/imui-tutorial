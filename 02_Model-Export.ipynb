{
  "nbformat": 4,
  "nbformat_minor": 0,
  "metadata": {
    "kernelspec": {
      "display_name": "Python 3",
      "language": "python",
      "name": "python3"
    },
    "language_info": {
      "codemirror_mode": {
        "name": "ipython",
        "version": 3
      },
      "file_extension": ".py",
      "mimetype": "text/x-python",
      "name": "python",
      "nbconvert_exporter": "python",
      "pygments_lexer": "ipython3",
      "version": "3.6.5"
    },
    "colab": {
      "name": "02_Model-Export.ipynb",
      "provenance": [],
      "toc_visible": true
    }
  },
  "cells": [
    {
      "cell_type": "code",
      "metadata": {
        "colab": {
          "base_uri": "https://localhost:8080/",
          "height": 35
        },
        "id": "LDL01RiXu5wJ",
        "outputId": "1b67a593-f4c7-43f2-8262-9f7c6e920537"
      },
      "source": [
        "import tensorflow as tf\n",
        "import keras\n",
        "import numpy as np\n",
        "\n",
        "from keras import backend as K\n",
        "from keras.layers.normalization import BatchNormalization\n",
        "from keras.models import load_model\n",
        "\n",
        "tf.__version__"
      ],
      "execution_count": 1,
      "outputs": [
        {
          "output_type": "execute_result",
          "data": {
            "application/vnd.google.colaboratory.intrinsic+json": {
              "type": "string"
            },
            "text/plain": [
              "'2.4.1'"
            ]
          },
          "metadata": {
            "tags": []
          },
          "execution_count": 1
        }
      ]
    },
    {
      "cell_type": "markdown",
      "metadata": {
        "id": "cGT9EfPZu5wP"
      },
      "source": [
        "## GPU and CPU settings\n",
        "If GPU is not available, comment out the bottom block."
      ]
    },
    {
      "cell_type": "code",
      "metadata": {
        "colab": {
          "base_uri": "https://localhost:8080/"
        },
        "id": "09I4lRl1u5wP",
        "outputId": "75117829-f942-4b35-a9f6-5f1088b9aa26"
      },
      "source": [
        "# If GPU is not available: \n",
        "# GPU_USE = '/cpu:0'\n",
        "# config = tf.compat.v1.ConfigProto(device_count = {\"GPU\": 0})\n",
        "\n",
        "\n",
        "# If GPU is available: \n",
        "config = tf.compat.v1.ConfigProto()\n",
        "config.log_device_placement = True\n",
        "config.allow_soft_placement = True\n",
        "config.gpu_options.allocator_type = 'BFC'\n",
        "\n",
        "# Limit the maximum memory used\n",
        "config.gpu_options.per_process_gpu_memory_fraction = 0.1\n",
        "\n",
        "# set session config\n",
        "tf.compat.v1.keras.backend.set_session(tf.compat.v1.Session(config=config))"
      ],
      "execution_count": 2,
      "outputs": [
        {
          "output_type": "stream",
          "text": [
            "Device mapping: no known devices.\n"
          ],
          "name": "stdout"
        }
      ]
    },
    {
      "cell_type": "markdown",
      "metadata": {
        "id": "qIPNw7heu5wQ"
      },
      "source": [
        "## Define input and output"
      ]
    },
    {
      "cell_type": "code",
      "metadata": {
        "id": "r8EoJmDKu5wQ"
      },
      "source": [
        "modelname = \"myModelCNN\"\n",
        "\n",
        "input_path = \"./\"\n",
        "input_file = modelname + \".h5\"\n",
        "\n",
        "output_path = \"/var/www/html/tutorial-data/\"\n",
        "output_file = modelname + \".pb\"\n",
        "\n",
        "output_node_prefix = \"output_node\""
      ],
      "execution_count": 23,
      "outputs": []
    },
    {
      "cell_type": "code",
      "metadata": {
        "colab": {
          "base_uri": "https://localhost:8080/"
        },
        "id": "NpSu4WG4u5wQ",
        "outputId": "da848a52-53e8-418f-de69-e939732998b2"
      },
      "source": [
        "K.set_learning_phase(0)\n",
        "net_model = load_model(input_path + input_file)\n",
        "\n",
        "num_output = 1\n",
        "pred = [None]*num_output\n",
        "pred_node_names = [None]*num_output\n",
        "for i in range(num_output):\n",
        "    pred_node_names[i] = output_node_prefix+str(i)\n",
        "    pred[i] = tf.identity(net_model.outputs[i], name=pred_node_names[i])\n",
        "print('output nodes names are: ', pred_node_names)\n",
        "output_node_prefix = pred_node_names[0]"
      ],
      "execution_count": 24,
      "outputs": [
        {
          "output_type": "stream",
          "text": [
            "/usr/local/lib/python3.7/dist-packages/tensorflow/python/keras/backend.py:434: UserWarning: `tf.keras.backend.set_learning_phase` is deprecated and will be removed after 2020-10-11. To update it, simply pass a True/False value to the `training` argument of the `__call__` method of your layer or model.\n",
            "  warnings.warn('`tf.keras.backend.set_learning_phase` is deprecated and '\n"
          ],
          "name": "stderr"
        },
        {
          "output_type": "stream",
          "text": [
            "output nodes names are:  ['output_node0']\n"
          ],
          "name": "stdout"
        }
      ]
    },
    {
      "cell_type": "code",
      "metadata": {
        "id": "1cMn7rCpu5wQ"
      },
      "source": [
        "sess = tf.compat.v1.keras.backend.get_session()"
      ],
      "execution_count": 20,
      "outputs": []
    },
    {
      "cell_type": "markdown",
      "metadata": {
        "id": "1qW8J-K_u5wR"
      },
      "source": [
        "## Export model"
      ]
    },
    {
      "cell_type": "code",
      "metadata": {
        "colab": {
          "base_uri": "https://localhost:8080/"
        },
        "id": "UMZF2L5-u5wR",
        "outputId": "cadc70f1-4fee-41ef-9733-00071aacad06"
      },
      "source": [
        "from tensorflow.python.framework import graph_util\n",
        "from tensorflow.python.framework import graph_io\n",
        "tf.compat.v1.disable_eager_execution()\n",
        "constant_graph = tf.compat.v1.graph_util.convert_variables_to_constants(sess, sess.graph.as_graph_def(), pred_node_names)\n",
        "\n",
        "graph_io.write_graph(constant_graph, output_path, output_file, as_text=False)\n",
        "\n",
        "print('Saved the freezed graph at: ', (output_path + output_file))"
      ],
      "execution_count": 25,
      "outputs": [
        {
          "output_type": "stream",
          "text": [
            "Saved the freezed graph at:  /var/www/html/tutorial-data/myModelCNN.pb\n"
          ],
          "name": "stdout"
        }
      ]
    },
    {
      "cell_type": "markdown",
      "metadata": {
        "id": "9mDfIE1uu5wR"
      },
      "source": [
        "## Show input and output node"
      ]
    },
    {
      "cell_type": "code",
      "metadata": {
        "colab": {
          "base_uri": "https://localhost:8080/"
        },
        "id": "ObsJA4Smu5wR",
        "outputId": "0d21ab78-730f-49ab-9fb8-eddcfa4ed2dc"
      },
      "source": [
        "g = tf.compat.v1.GraphDef()\n",
        "g.ParseFromString(open(output_path + output_file, \"rb\").read())\n",
        "s = \"\"\n",
        "for n in g.node:\n",
        "    s =s + str(n.name) + \"\\n\"\n",
        "\n",
        "print(s)"
      ],
      "execution_count": 26,
      "outputs": [
        {
          "output_type": "stream",
          "text": [
            "dense_input\n",
            "dense_1/kernel\n",
            "dense_1/bias\n",
            "dense_1/MatMul/ReadVariableOp\n",
            "dense_1/MatMul\n",
            "dense_1/BiasAdd/ReadVariableOp\n",
            "dense_1/BiasAdd\n",
            "dense_1/Relu\n",
            "dense_1_1/kernel\n",
            "dense_1_1/bias\n",
            "dense_1_1/MatMul/ReadVariableOp\n",
            "dense_1_1/MatMul\n",
            "dense_1_1/BiasAdd/ReadVariableOp\n",
            "dense_1_1/BiasAdd\n",
            "dense_1_1/Softmax\n",
            "output_node0\n",
            "\n"
          ],
          "name": "stdout"
        }
      ]
    }
  ]
}