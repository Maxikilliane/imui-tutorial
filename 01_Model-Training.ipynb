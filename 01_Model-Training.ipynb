{
  "nbformat": 4,
  "nbformat_minor": 0,
  "metadata": {
    "kernelspec": {
      "display_name": "Python 3",
      "language": "python",
      "name": "python3"
    },
    "language_info": {
      "codemirror_mode": {
        "name": "ipython",
        "version": 3
      },
      "file_extension": ".py",
      "mimetype": "text/x-python",
      "name": "python",
      "nbconvert_exporter": "python",
      "pygments_lexer": "ipython3",
      "version": "3.6.5"
    },
    "colab": {
      "name": "01_Model-Training.ipynb",
      "provenance": [],
      "toc_visible": true
    }
  },
  "cells": [
    {
      "cell_type": "code",
      "metadata": {
        "colab": {
          "base_uri": "https://localhost:8080/",
          "height": 35
        },
        "id": "NJMh1k0Xg01x",
        "outputId": "e33ca9fe-3ea7-40a4-ec01-bd743bcba685"
      },
      "source": [
        "import tensorflow as tf\n",
        "\n",
        "# Importing matplotlib to plot images.\n",
        "import matplotlib.pyplot as plt\n",
        "import numpy as np\n",
        "%matplotlib inline\n",
        "\n",
        "# Importing SK-learn to calculate precision and recall\n",
        "import sklearn\n",
        "import sklearn.metrics\n",
        "\n",
        "# Used for graph export\n",
        "from tensorflow.python.framework import graph_util\n",
        "from tensorflow.python.framework import graph_io\n",
        "from keras.models import load_model\n",
        "from keras import backend as K\n",
        "\n",
        "tf.__version__"
      ],
      "execution_count": 2,
      "outputs": [
        {
          "output_type": "execute_result",
          "data": {
            "application/vnd.google.colaboratory.intrinsic+json": {
              "type": "string"
            },
            "text/plain": [
              "'2.4.1'"
            ]
          },
          "metadata": {
            "tags": []
          },
          "execution_count": 2
        }
      ]
    },
    {
      "cell_type": "code",
      "metadata": {
        "colab": {
          "base_uri": "https://localhost:8080/"
        },
        "id": "Hc07Ahp2g013",
        "outputId": "2cdc5ddd-446c-431c-db16-35731e73051f"
      },
      "source": [
        "# the data, split between train and test sets\n",
        "(x_train, y_train), (x_test, y_test) = tf.keras.datasets.mnist.load_data()"
      ],
      "execution_count": 3,
      "outputs": [
        {
          "output_type": "stream",
          "text": [
            "Downloading data from https://storage.googleapis.com/tensorflow/tf-keras-datasets/mnist.npz\n",
            "11493376/11490434 [==============================] - 0s 0us/step\n"
          ],
          "name": "stdout"
        }
      ]
    },
    {
      "cell_type": "code",
      "metadata": {
        "colab": {
          "base_uri": "https://localhost:8080/"
        },
        "id": "pmpKAiufg013",
        "outputId": "43a9470d-7cae-4342-e2dd-9f0598065b69"
      },
      "source": [
        "# flatten image data\n",
        "x_train = x_train.reshape(-1, 784)\n",
        "x_test = x_test.reshape(-1, 784)\n",
        "\n",
        "# convert to float\n",
        "x_train = x_train.astype(np.float32)\n",
        "x_test = x_test.astype(np.float32)\n",
        "\n",
        "# normalize to a scale between 0 and 1\n",
        "x_train /= 255\n",
        "x_test /= 255\n",
        "\n",
        "print(x_train.shape[0], 'train samples')\n",
        "print(x_test.shape[0], 'test samples')\n",
        "\n",
        "# convert class vectors to binary class matrices (one-hot notation)\n",
        "num_classes = 10\n",
        "y_train_one_hot = tf.keras.utils.to_categorical(y_train, num_classes)\n",
        "y_test_one_hot = tf.keras.utils.to_categorical(y_test, num_classes)"
      ],
      "execution_count": 4,
      "outputs": [
        {
          "output_type": "stream",
          "text": [
            "60000 train samples\n",
            "10000 test samples\n"
          ],
          "name": "stdout"
        }
      ]
    },
    {
      "cell_type": "code",
      "metadata": {
        "colab": {
          "base_uri": "https://localhost:8080/",
          "height": 298
        },
        "id": "CwKhiS1yg013",
        "outputId": "cda651a8-d111-4283-a4e4-34d1e70aaaa7"
      },
      "source": [
        "i = 31\n",
        "plt.imshow(x_train[i].reshape(28, 28)) #np.sqrt(784) = 28\n",
        "plt.title(\"Label for image %i is: %s\" % (i, y_train[i]))"
      ],
      "execution_count": 5,
      "outputs": [
        {
          "output_type": "execute_result",
          "data": {
            "text/plain": [
              "Text(0.5, 1.0, 'Label for image 31 is: 8')"
            ]
          },
          "metadata": {
            "tags": []
          },
          "execution_count": 5
        },
        {
          "output_type": "display_data",
          "data": {
            "image/png": "[encoded data removed]",
            "text/plain": [
              "<Figure size 432x288 with 1 Axes>"
            ]
          },
          "metadata": {
            "tags": [],
            "needs_background": "light"
          }
        }
      ]
    },
    {
      "cell_type": "markdown",
      "metadata": {
        "id": "SPyReVHmg014"
      },
      "source": [
        "## GPU and CPU settings\n",
        "If GPU is not available, comment out the bottom block."
      ]
    },
    {
      "cell_type": "code",
      "metadata": {
        "colab": {
          "base_uri": "https://localhost:8080/"
        },
        "id": "6esHKGElg014",
        "outputId": "7d54526c-a042-4959-b6e9-ccc5d09f78cd"
      },
      "source": [
        "# If GPU is not available: \n",
        "# GPU_USE = '/cpu:0'\n",
        "# config = tf.ConfigProto(device_count = {\"GPU\": 0})\n",
        "\n",
        "\n",
        "# If GPU is available: \n",
        "config = tf.compat.v1.ConfigProto()\n",
        "config.log_device_placement = True\n",
        "config.allow_soft_placement = True\n",
        "config.gpu_options.allocator_type = 'BFC'\n",
        "\n",
        "# Limit the maximum memory used\n",
        "config.gpu_options.per_process_gpu_memory_fraction = 0.1\n",
        "\n",
        "# set session config\n",
        "tf.compat.v1.keras.backend.set_session(tf.compat.v1.Session(config=config))"
      ],
      "execution_count": 8,
      "outputs": [
        {
          "output_type": "stream",
          "text": [
            "Device mapping: no known devices.\n"
          ],
          "name": "stdout"
        }
      ]
    },
    {
      "cell_type": "code",
      "metadata": {
        "colab": {
          "base_uri": "https://localhost:8080/"
        },
        "id": "BrXTJHBOg014",
        "outputId": "683bed5a-92bb-4bfc-de4d-8b715939d000"
      },
      "source": [
        "########## HYPER PARAMETERS\n",
        "batch_size = 128\n",
        "epochs = 10\n",
        "optimizer = tf.keras.optimizers.RMSprop()\n",
        "########## HYPER PARAMETERS\n",
        "\n",
        "########## MODEL ARCHITECTURE\n",
        "model = tf.keras.Sequential()\n",
        "model.add(tf.keras.layers.Dense(5, activation='relu', input_shape=(784,)))\n",
        "model.add(tf.keras.layers.Dense(num_classes, activation='softmax'))\n",
        "########## MODEL ARCHITECTURE\n",
        "\n",
        "# Print summary\n",
        "model.summary()\n",
        "\n",
        "# compile model for training\n",
        "model.compile(loss='categorical_crossentropy',\n",
        "              optimizer=optimizer,\n",
        "              metrics=['accuracy'])\n",
        "\n",
        "history = model.fit(x_train, y_train_one_hot,\n",
        "                    batch_size=batch_size,\n",
        "                    epochs=epochs,\n",
        "                    verbose=1,\n",
        "                    validation_data=(x_test, y_test_one_hot))"
      ],
      "execution_count": 9,
      "outputs": [
        {
          "output_type": "stream",
          "text": [
            "Model: \"sequential\"\n",
            "_________________________________________________________________\n",
            "Layer (type)                 Output Shape              Param #   \n",
            "=================================================================\n",
            "dense (Dense)                (None, 5)                 3925      \n",
            "_________________________________________________________________\n",
            "dense_1 (Dense)              (None, 10)                60        \n",
            "=================================================================\n",
            "Total params: 3,985\n",
            "Trainable params: 3,985\n",
            "Non-trainable params: 0\n",
            "_________________________________________________________________\n",
            "Epoch 1/10\n",
            "469/469 [==============================] - 2s 2ms/step - loss: 1.4895 - accuracy: 0.4986 - val_loss: 0.7320 - val_accuracy: 0.7871\n",
            "Epoch 2/10\n",
            "469/469 [==============================] - 1s 2ms/step - loss: 0.6809 - accuracy: 0.8056 - val_loss: 0.5197 - val_accuracy: 0.8531\n",
            "Epoch 3/10\n",
            "469/469 [==============================] - 1s 2ms/step - loss: 0.5026 - accuracy: 0.8605 - val_loss: 0.4400 - val_accuracy: 0.8743\n",
            "Epoch 4/10\n",
            "469/469 [==============================] - 1s 2ms/step - loss: 0.4439 - accuracy: 0.8742 - val_loss: 0.4128 - val_accuracy: 0.8814\n",
            "Epoch 5/10\n",
            "469/469 [==============================] - 1s 2ms/step - loss: 0.4151 - accuracy: 0.8811 - val_loss: 0.3948 - val_accuracy: 0.8907\n",
            "Epoch 6/10\n",
            "469/469 [==============================] - 1s 2ms/step - loss: 0.4006 - accuracy: 0.8852 - val_loss: 0.3871 - val_accuracy: 0.8893\n",
            "Epoch 7/10\n",
            "469/469 [==============================] - 1s 2ms/step - loss: 0.3876 - accuracy: 0.8886 - val_loss: 0.3747 - val_accuracy: 0.8943\n",
            "Epoch 8/10\n",
            "469/469 [==============================] - 1s 2ms/step - loss: 0.3757 - accuracy: 0.8926 - val_loss: 0.3724 - val_accuracy: 0.8939\n",
            "Epoch 9/10\n",
            "469/469 [==============================] - 1s 2ms/step - loss: 0.3762 - accuracy: 0.8921 - val_loss: 0.3671 - val_accuracy: 0.8950\n",
            "Epoch 10/10\n",
            "469/469 [==============================] - 1s 2ms/step - loss: 0.3676 - accuracy: 0.8935 - val_loss: 0.3666 - val_accuracy: 0.8935\n"
          ],
          "name": "stdout"
        }
      ]
    },
    {
      "cell_type": "markdown",
      "metadata": {
        "id": "rr3gWTtzg015"
      },
      "source": [
        "# Plot training and test accuracy"
      ]
    },
    {
      "cell_type": "code",
      "metadata": {
        "colab": {
          "base_uri": "https://localhost:8080/"
        },
        "id": "EhHTfLWIg015",
        "outputId": "5476f78a-b227-4895-fdfb-d62f025ace58"
      },
      "source": [
        "# use model for inference to get test accuracy\n",
        "y_test_pred = model.predict(x_test)\n",
        "y_test_pred = np.argmax(y_test_pred, axis=1)\n",
        "\n",
        "print ('\\n Summary of the precision, recall, F1 score for each class:')\n",
        "print (sklearn.metrics.classification_report(y_test, y_test_pred))\n",
        "\n",
        "print ('\\n Confusion matrix: ')\n",
        "print (sklearn.metrics.confusion_matrix(y_test, y_test_pred))"
      ],
      "execution_count": 10,
      "outputs": [
        {
          "output_type": "stream",
          "text": [
            "\n",
            " Summary of the precision, recall, F1 score for each class:\n",
            "              precision    recall  f1-score   support\n",
            "\n",
            "           0       0.94      0.96      0.95       980\n",
            "           1       0.95      0.98      0.96      1135\n",
            "           2       0.93      0.86      0.89      1032\n",
            "           3       0.87      0.85      0.86      1010\n",
            "           4       0.85      0.93      0.89       982\n",
            "           5       0.85      0.83      0.84       892\n",
            "           6       0.91      0.93      0.92       958\n",
            "           7       0.91      0.89      0.90      1028\n",
            "           8       0.87      0.83      0.85       974\n",
            "           9       0.84      0.85      0.85      1009\n",
            "\n",
            "    accuracy                           0.89     10000\n",
            "   macro avg       0.89      0.89      0.89     10000\n",
            "weighted avg       0.89      0.89      0.89     10000\n",
            "\n",
            "\n",
            " Confusion matrix: \n",
            "[[ 938    0    4    2    5   11   10    5    4    1]\n",
            " [   0 1109    2    5    0    2    3    2   12    0]\n",
            " [  15   16  887   23    8    3   35    8   25   12]\n",
            " [   2    4   27  861    2   49    1   24   30   10]\n",
            " [   2    2    4    0  915    0   10   11    4   34]\n",
            " [   9    3    7   61   15  741   13    7   28    8]\n",
            " [  16    3    7    0   11   18  895    1    7    0]\n",
            " [   4   11   16    9   18    0    0  919    2   49]\n",
            " [   4   20    3   22   18   38   12    2  808   47]\n",
            " [  11    5    1   11   79    5    0   31    4  862]]\n"
          ],
          "name": "stdout"
        }
      ]
    },
    {
      "cell_type": "code",
      "metadata": {
        "colab": {
          "base_uri": "https://localhost:8080/",
          "height": 282
        },
        "id": "IncRfZJZg016",
        "outputId": "8f01ae4f-1e4e-4804-d433-b85c77f72a04"
      },
      "source": [
        "import matplotlib.pyplot as plt\n",
        "plt.plot(history.history['val_accuracy'], label=\"Test Accuracy\")\n",
        "plt.plot(history.history['accuracy'], label=\"Training Accuracy\")\n",
        "plt.legend()"
      ],
      "execution_count": 13,
      "outputs": [
        {
          "output_type": "execute_result",
          "data": {
            "text/plain": [
              "<matplotlib.legend.Legend at 0x7f9132784090>"
            ]
          },
          "metadata": {
            "tags": []
          },
          "execution_count": 13
        },
        {
          "output_type": "display_data",
          "data": {
            "image/png": "[encoded data removed]",
            "text/plain": [
              "<Figure size 432x288 with 1 Axes>"
            ]
          },
          "metadata": {
            "tags": [],
            "needs_background": "light"
          }
        }
      ]
    },
    {
      "cell_type": "code",
      "metadata": {
        "id": "AjOA8uepg016"
      },
      "source": [
        "# save model\n",
        "model.save(\"myModel.h5\")"
      ],
      "execution_count": 14,
      "outputs": []
    }
  ]
}