{
  "nbformat": 4,
  "nbformat_minor": 0,
  "metadata": {
    "kernelspec": {
      "display_name": "Python 3",
      "language": "python",
      "name": "python3"
    },
    "language_info": {
      "codemirror_mode": {
        "name": "ipython",
        "version": 3
      },
      "file_extension": ".py",
      "mimetype": "text/x-python",
      "name": "python",
      "nbconvert_exporter": "python",
      "pygments_lexer": "ipython3",
      "version": "3.6.3"
    },
    "colab": {
      "name": "03_Model-Training-CNN.ipynb",
      "provenance": [],
      "toc_visible": true
    }
  },
  "cells": [
    {
      "cell_type": "code",
      "metadata": {
        "colab": {
          "base_uri": "https://localhost:8080/",
          "height": 35
        },
        "id": "GQYl4APa3ht4",
        "outputId": "49e7a7d4-5679-4eda-9259-e76926a25345"
      },
      "source": [
        "import tensorflow as tf\n",
        "\n",
        "# Importing matplotlib to plot images.\n",
        "import matplotlib.pyplot as plt\n",
        "import numpy as np\n",
        "%matplotlib inline\n",
        "\n",
        "# Importing SK-learn to calculate precision and recall\n",
        "import sklearn\n",
        "import sklearn.metrics\n",
        "\n",
        "# Used for graph export\n",
        "from tensorflow.python.framework import graph_util\n",
        "from tensorflow.python.framework import graph_io\n",
        "from keras.models import load_model\n",
        "from keras import backend as K\n",
        "\n",
        "tf.__version__"
      ],
      "execution_count": 1,
      "outputs": [
        {
          "output_type": "execute_result",
          "data": {
            "application/vnd.google.colaboratory.intrinsic+json": {
              "type": "string"
            },
            "text/plain": [
              "'2.4.1'"
            ]
          },
          "metadata": {
            "tags": []
          },
          "execution_count": 1
        }
      ]
    },
    {
      "cell_type": "code",
      "metadata": {
        "colab": {
          "base_uri": "https://localhost:8080/"
        },
        "id": "sIAYnYHx3ht_",
        "outputId": "11852d0d-1d91-4fb2-ae4d-4cc98785658c"
      },
      "source": [
        "# the data, split between train and test sets\n",
        "(x_train, y_train), (x_test, y_test) = tf.keras.datasets.mnist.load_data()"
      ],
      "execution_count": 2,
      "outputs": [
        {
          "output_type": "stream",
          "text": [
            "Downloading data from https://storage.googleapis.com/tensorflow/tf-keras-datasets/mnist.npz\n",
            "11493376/11490434 [==============================] - 0s 0us/step\n"
          ],
          "name": "stdout"
        }
      ]
    },
    {
      "cell_type": "code",
      "metadata": {
        "colab": {
          "base_uri": "https://localhost:8080/"
        },
        "id": "qFINXErg3huA",
        "outputId": "9bcd54a3-e9e2-4b28-b5d9-02aa77ee3952"
      },
      "source": [
        "# flatten image data <- NOT FOR CNN\n",
        "#x_train = x_train.reshape(-1, 784)\n",
        "#x_test = x_test.reshape(-1, 784)\n",
        "\n",
        "# For CNNs  ->\n",
        "###   DIFFERENT RESHAPE  ### \n",
        "### We here need the dimensions of the image plus a channel, e.g. for RGB images one have 3 channels ###\n",
        "x_train = x_train.reshape(-1, 28, 28, 1)\n",
        "x_test = x_test.reshape(-1, 28, 28, 1)\n",
        "\n",
        "# convert to float\n",
        "x_train = x_train.astype(np.float32)\n",
        "x_test = x_test.astype(np.float32)\n",
        "\n",
        "# normalize to a scale between 0 and 1\n",
        "x_train /= 255\n",
        "x_test /= 255\n",
        "\n",
        "print(x_train.shape[0], 'train samples')\n",
        "print(x_test.shape[0], 'test samples')\n",
        "\n",
        "# convert class vectors to binary class matrices (one-hot notation)\n",
        "num_classes = 10\n",
        "y_train_one_hot = tf.keras.utils.to_categorical(y_train, num_classes)\n",
        "y_test_one_hot = tf.keras.utils.to_categorical(y_test, num_classes)"
      ],
      "execution_count": 3,
      "outputs": [
        {
          "output_type": "stream",
          "text": [
            "60000 train samples\n",
            "10000 test samples\n"
          ],
          "name": "stdout"
        }
      ]
    },
    {
      "cell_type": "code",
      "metadata": {
        "colab": {
          "base_uri": "https://localhost:8080/",
          "height": 298
        },
        "id": "i_aaWhO53huA",
        "outputId": "3b3b19be-4599-49dc-f753-8e2312ee5f62"
      },
      "source": [
        "i = 31\n",
        "plt.imshow(x_train[i].reshape(28, 28)) #np.sqrt(784) = 28\n",
        "plt.title(\"Label for image %i is: %s\" % (i, np.argmax(y_train[i])))"
      ],
      "execution_count": 4,
      "outputs": [
        {
          "output_type": "execute_result",
          "data": {
            "text/plain": [
              "Text(0.5, 1.0, 'Label for image 31 is: 0')"
            ]
          },
          "metadata": {
            "tags": []
          },
          "execution_count": 4
        },
        {
          "output_type": "display_data",
          "data": {
            "image/png": "[encoded data removed]",
            "text/plain": [
              "<Figure size 432x288 with 1 Axes>"
            ]
          },
          "metadata": {
            "tags": [],
            "needs_background": "light"
          }
        }
      ]
    },
    {
      "cell_type": "markdown",
      "metadata": {
        "id": "PHMsdLVk3huB"
      },
      "source": [
        "## GPU and CPU settings\n",
        "If GPU is not available, comment out the bottom block."
      ]
    },
    {
      "cell_type": "code",
      "metadata": {
        "colab": {
          "base_uri": "https://localhost:8080/"
        },
        "id": "oWeortwP3huB",
        "outputId": "d64167b3-04b6-4775-be47-8d9626e9227d"
      },
      "source": [
        "# If GPU is not available: \n",
        "# GPU_USE = '/cpu:0'\n",
        "# config = tf.ConfigProto(device_count = {\"GPU\": 0})\n",
        "\n",
        "\n",
        "# If GPU is available: \n",
        "config = tf.compat.v1.ConfigProto()\n",
        "config.log_device_placement = True\n",
        "config.allow_soft_placement = True\n",
        "config.gpu_options.allocator_type = 'BFC'\n",
        "\n",
        "# Limit the maximum memory used\n",
        "config.gpu_options.per_process_gpu_memory_fraction = 0.1\n",
        "\n",
        "# set session config\n",
        "tf.compat.v1.keras.backend.set_session(tf.compat.v1.Session(config=config))"
      ],
      "execution_count": 8,
      "outputs": [
        {
          "output_type": "stream",
          "text": [
            "Device mapping: no known devices.\n"
          ],
          "name": "stdout"
        }
      ]
    },
    {
      "cell_type": "code",
      "metadata": {
        "colab": {
          "base_uri": "https://localhost:8080/"
        },
        "id": "o32Wh25W3huB",
        "outputId": "50545235-d9ca-48dc-99de-5933d61a28dc"
      },
      "source": [
        "########## HYPER PARAMETERS\n",
        "batch_size = 128\n",
        "epochs = 10\n",
        "optimizer = tf.keras.optimizers.RMSprop()\n",
        "########## HYPER PARAMETERS\n",
        "\n",
        "########## MODEL ARCHITECTURE\n",
        "model = tf.keras.Sequential()\n",
        "\n",
        "### OLD ARCHITECTURE START\n",
        "#model.add(tf.keras.layers.Dense(5, activation='relu', input_shape=(784,)))\n",
        "### OLD ARCHITECTURE END\n",
        "\n",
        "### NEW CNN ARCHITECTURE\n",
        "model.add(tf.keras.layers.Conv2D(5, kernel_size=(3, 3), activation='relu', input_shape=(28,28,1)))\n",
        "model.add(tf.keras.layers.Flatten())\n",
        "### NEW CNN ARCHITECTURE\n",
        "\n",
        "model.add(tf.keras.layers.Dense(num_classes, activation='softmax'))\n",
        "########## MODEL ARCHITECTURE\n",
        "\n",
        "# Print summary\n",
        "model.summary()\n",
        "\n",
        "# compile model for training\n",
        "model.compile(loss='categorical_crossentropy',\n",
        "              optimizer=optimizer,\n",
        "              metrics=['accuracy'])\n",
        "\n",
        "history = model.fit(x_train, y_train_one_hot,\n",
        "                    batch_size=batch_size,\n",
        "                    epochs=epochs,\n",
        "                    verbose=1,\n",
        "                    validation_data=(x_test, y_test_one_hot))"
      ],
      "execution_count": 9,
      "outputs": [
        {
          "output_type": "stream",
          "text": [
            "Model: \"sequential\"\n",
            "_________________________________________________________________\n",
            "Layer (type)                 Output Shape              Param #   \n",
            "=================================================================\n",
            "conv2d (Conv2D)              (None, 26, 26, 5)         50        \n",
            "_________________________________________________________________\n",
            "flatten (Flatten)            (None, 3380)              0         \n",
            "_________________________________________________________________\n",
            "dense (Dense)                (None, 10)                33810     \n",
            "=================================================================\n",
            "Total params: 33,860\n",
            "Trainable params: 33,860\n",
            "Non-trainable params: 0\n",
            "_________________________________________________________________\n",
            "Epoch 1/10\n",
            "469/469 [==============================] - 12s 24ms/step - loss: 0.6831 - accuracy: 0.8310 - val_loss: 0.2408 - val_accuracy: 0.9315\n",
            "Epoch 2/10\n",
            "469/469 [==============================] - 11s 24ms/step - loss: 0.2125 - accuracy: 0.9391 - val_loss: 0.1604 - val_accuracy: 0.9560\n",
            "Epoch 3/10\n",
            "469/469 [==============================] - 11s 24ms/step - loss: 0.1430 - accuracy: 0.9591 - val_loss: 0.1145 - val_accuracy: 0.9694\n",
            "Epoch 4/10\n",
            "469/469 [==============================] - 11s 24ms/step - loss: 0.1110 - accuracy: 0.9691 - val_loss: 0.0993 - val_accuracy: 0.9721\n",
            "Epoch 5/10\n",
            "469/469 [==============================] - 11s 24ms/step - loss: 0.0881 - accuracy: 0.9749 - val_loss: 0.0856 - val_accuracy: 0.9742\n",
            "Epoch 6/10\n",
            "469/469 [==============================] - 11s 24ms/step - loss: 0.0765 - accuracy: 0.9783 - val_loss: 0.0774 - val_accuracy: 0.9767\n",
            "Epoch 7/10\n",
            "469/469 [==============================] - 11s 24ms/step - loss: 0.0696 - accuracy: 0.9795 - val_loss: 0.0748 - val_accuracy: 0.9762\n",
            "Epoch 8/10\n",
            "469/469 [==============================] - 11s 24ms/step - loss: 0.0615 - accuracy: 0.9830 - val_loss: 0.0747 - val_accuracy: 0.9777\n",
            "Epoch 9/10\n",
            "469/469 [==============================] - 11s 24ms/step - loss: 0.0586 - accuracy: 0.9830 - val_loss: 0.0696 - val_accuracy: 0.9777\n",
            "Epoch 10/10\n",
            "469/469 [==============================] - 11s 24ms/step - loss: 0.0501 - accuracy: 0.9856 - val_loss: 0.0676 - val_accuracy: 0.9798\n"
          ],
          "name": "stdout"
        }
      ]
    },
    {
      "cell_type": "markdown",
      "metadata": {
        "id": "ADR-8Lbo3huC"
      },
      "source": [
        "# Plot training and test accuracy"
      ]
    },
    {
      "cell_type": "code",
      "metadata": {
        "colab": {
          "base_uri": "https://localhost:8080/"
        },
        "id": "8j93yZYH3huC",
        "outputId": "629c5061-5b93-48eb-f6c9-34c8d7585941"
      },
      "source": [
        "# use model for inference to get test accuracy\n",
        "y_test_pred = model.predict(x_test)\n",
        "y_test_pred = np.argmax(y_test_pred, axis=1)\n",
        "\n",
        "print ('\\n Summary of the precision, recall, F1 score for each class:')\n",
        "print (sklearn.metrics.classification_report(y_test, y_test_pred))\n",
        "\n",
        "print ('\\n Confusion matrix: ')\n",
        "print (sklearn.metrics.confusion_matrix(y_test, y_test_pred))"
      ],
      "execution_count": 10,
      "outputs": [
        {
          "output_type": "stream",
          "text": [
            "\n",
            " Summary of the precision, recall, F1 score for each class:\n",
            "              precision    recall  f1-score   support\n",
            "\n",
            "           0       0.97      0.99      0.98       980\n",
            "           1       0.99      0.99      0.99      1135\n",
            "           2       0.98      0.98      0.98      1032\n",
            "           3       0.99      0.99      0.99      1010\n",
            "           4       0.98      0.98      0.98       982\n",
            "           5       0.98      0.98      0.98       892\n",
            "           6       0.98      0.98      0.98       958\n",
            "           7       0.97      0.98      0.97      1028\n",
            "           8       0.97      0.97      0.97       974\n",
            "           9       0.98      0.96      0.97      1009\n",
            "\n",
            "    accuracy                           0.98     10000\n",
            "   macro avg       0.98      0.98      0.98     10000\n",
            "weighted avg       0.98      0.98      0.98     10000\n",
            "\n",
            "\n",
            " Confusion matrix: \n",
            "[[ 970    0    0    0    0    2    2    3    3    0]\n",
            " [   0 1129    2    1    0    0    2    0    1    0]\n",
            " [   2    3 1011    1    1    0    1    7    5    1]\n",
            " [   1    0    2  996    0    4    0    4    3    0]\n",
            " [   2    0    4    0  963    0    3    1    1    8]\n",
            " [   2    2    0    6    0  876    5    0    1    0]\n",
            " [   7    2    1    0    2    2  940    0    4    0]\n",
            " [   1    4    8    1    1    0    0 1003    4    6]\n",
            " [   8    0    5    2    3    1    2    5  945    3]\n",
            " [   3    6    0    3   10    5    1   12    4  965]]\n"
          ],
          "name": "stdout"
        }
      ]
    },
    {
      "cell_type": "code",
      "metadata": {
        "colab": {
          "base_uri": "https://localhost:8080/",
          "height": 282
        },
        "id": "2sTCjLOo3huD",
        "outputId": "023f80e9-9546-427f-adf7-12694aa0622e"
      },
      "source": [
        "import matplotlib.pyplot as plt\n",
        "plt.plot(history.history['val_accuracy'], label=\"Test Accuracy\")\n",
        "plt.plot(history.history['accuracy'], label=\"Training Accuracy\")\n",
        "plt.legend()"
      ],
      "execution_count": 12,
      "outputs": [
        {
          "output_type": "execute_result",
          "data": {
            "text/plain": [
              "<matplotlib.legend.Legend at 0x7f917f18eb90>"
            ]
          },
          "metadata": {
            "tags": []
          },
          "execution_count": 12
        },
        {
          "output_type": "display_data",
          "data": {
            "image/png": "[encoded data removed]",
            "text/plain": [
              "<Figure size 432x288 with 1 Axes>"
            ]
          },
          "metadata": {
            "tags": [],
            "needs_background": "light"
          }
        }
      ]
    },
    {
      "cell_type": "code",
      "metadata": {
        "id": "lYD81Qxf3huD"
      },
      "source": [
        "# save model\n",
        "model.save(\"myModelCNN.h5\")"
      ],
      "execution_count": 13,
      "outputs": []
    }
  ]
}